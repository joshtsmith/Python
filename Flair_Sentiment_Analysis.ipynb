{
 "cells": [
  {
   "cell_type": "code",
   "execution_count": null,
   "metadata": {},
   "outputs": [],
   "source": [
    "\n",
    "\n",
    "import numpy as np\n",
    "import pandas as pd\n",
    "import seaborn as sns\n",
    "\n",
    "sns.set(rc={'figure.figsize':(30,1)})\n",
    "\n",
    "# Visualization from https://medium.com/@b.terryjack/nlp-pre-trained-sentiment-analysis-1eb52a9d742c\n",
    "def visualise_sentiments(data):\n",
    "  sns.heatmap(pd.DataFrame(data).set_index(\"Sentence\").T,center=0, annot=True, cmap = \"PiYG\")\n",
    "  \n",
    "import flair\n",
    "sentiment = flair.models.TextClassifier.load('en-sentiment')\n",
    "\n",
    "# Import Data\n",
    "df_d = pd.read_csv('C:/Users/mkt4968/Documents/Data/Medallia All Data from Contact Center for Josh.csv')\n",
    "\n",
    "comments = df_d['Reason for Key Metric Score'].astype('str') + ' ' + df_d['Additional Comments'].astype('str')\n",
    "\n",
    "# Score individual comments\n",
    "sent = flair.data.Sentence(comments[3])\n",
    "sentiment.predict(sent)\n",
    "sent.labels[0]\n",
    "\n",
    "# Score all comments in dataframe\n",
    "locater = 0\n",
    "for s in comments:\n",
    "    if s == 'nan':\n",
    "        locater += 1\n",
    "        continue\n",
    "    else:\n",
    "        sent = flair.data.Sentence(s)\n",
    "        sentiment.predict(sent)\n",
    "        df_d.loc[locater, 'Sent_Score'] = sent.labels[0].score *(-1,1)[str(sent.labels[0]).split()[0].startswith(\"POS\")]\n",
    "        locater +=1\n",
    "\n",
    "\n",
    "\n",
    "# Create viz  (adapted from Mohammed Terry )\n",
    "s = flair.data.Sentence(comments[49])\n",
    "sentiment.predict(s)\n",
    "total_sentiment = s.labels\n",
    "total_sentiment      \n",
    "        \n",
    "tokens = [token.text for token in s.tokens]\n",
    "ss = [flair.data.Sentence(s) for s in tokens]\n",
    "[sentiment.predict(s) for s in ss]\n",
    "sentiments = [s.labels[0].score * (-1,1)[str(s.labels[0]).split()[0].startswith(\"POS\")] for s in ss]\n",
    "\n",
    "visualise_sentiments({\n",
    "      \"Sentence\":[\"SENTENCE\"] + tokens,\n",
    "      \"Sentiment\":[total_sentiment[0].score *(-1,1)[str(total_sentiment[0]).split()[0].startswith(\"POS\")]] + sentiments,\n",
    "})"
   ]
  }
 ],
 "metadata": {
  "kernelspec": {
   "display_name": "Python 3",
   "language": "python",
   "name": "python3"
  },
  "language_info": {
   "codemirror_mode": {
    "name": "ipython",
    "version": 3
   },
   "file_extension": ".py",
   "mimetype": "text/x-python",
   "name": "python",
   "nbconvert_exporter": "python",
   "pygments_lexer": "ipython3",
   "version": "3.7.3"
  }
 },
 "nbformat": 4,
 "nbformat_minor": 2
}
