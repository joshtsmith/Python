{
 "cells": [
  {
   "cell_type": "markdown",
   "metadata": {},
   "source": [
    "# A/B Testing Protocol"
   ]
  },
  {
   "cell_type": "code",
   "execution_count": null,
   "metadata": {},
   "outputs": [],
   "source": [
    "import pandas as pd\n",
    "import numpy as np\n",
    "import pymc3 as pm\n",
    "import matplotlib.pyplot as plt\n",
    "import seaborn as sns\n",
    "%matplotlib inline"
   ]
  },
  {
   "cell_type": "code",
   "execution_count": null,
   "metadata": {},
   "outputs": [],
   "source": [
    "#Our results from A/B test for click-throughs\n",
    "A_views, A_clicks = 2745, 1958\n",
    "B_views, B_clicks = 759, 523"
   ]
  },
  {
   "cell_type": "code",
   "execution_count": null,
   "metadata": {},
   "outputs": [],
   "source": [
    "# Need to update the model in context\n",
    "with pm.Model():\n",
    "    \n",
    "    # Define our guess on what the clicktrough might be. This is a ratio of success:failure (alpha:beta). \n",
    "    # It is ok for this to be uninformative (1:1) but is able to capture our assumptions.\n",
    "    prior_A = pm.Beta('prior_A', alpha=3, beta=1)\n",
    "    prior_B = pm.Beta('prior_B', alpha=3, beta=1)\n",
    "    \n",
    "    # Update the model with the observations from the experiment\n",
    "    obs_A = pm.Binomial('like_A', n=A_views, p=prior_A, observed=A_clicks)\n",
    "    obs_B = pm.Binomial('like_B', n=B_views, p=prior_B, observed=B_clicks)\n",
    "    \n",
    "    # Examine the lift by subtracting B from A (how much better/worse is B than A)\n",
    "    pm.Deterministic('difference', prior_B - prior_A)\n",
    "    pm.Deterministic('relation', (prior_B/prior_A)-1)\n",
    "    \n",
    "    # This starts the MCMC procedure for generating outcomes where we do draws of N.\n",
    "    trace = pm.sample(draws=50000, start=pm.find_MAP(), progressbar=True)"
   ]
  },
  {
   "cell_type": "code",
   "execution_count": null,
   "metadata": {},
   "outputs": [],
   "source": [
    "    \n",
    "# We are intersted in the posterior probability, so want to discard the first bunch of drows.    \n",
    "_ = pm.traceplot(trace[1000:])\n",
    "\n",
    "# Plot the lift of B over A\n",
    "_ = pm.plot_posterior(trace[1000:], varnames=['difference', 'relation'], ref_val=0, color='#87ceeb')\n",
    "\n",
    "#pm.forestplot(trace)  #Uncomment to run a forest plot\n",
    "summary = pm.summary(trace) # Discrete descriptions of the results"
   ]
  },
  {
   "cell_type": "code",
   "execution_count": null,
   "metadata": {},
   "outputs": [],
   "source": [
    "#Joint Posterior\n",
    "pA = trace[1000:]['prior_A']\n",
    "pB = trace[1000:]['prior_B']\n",
    "delta_posterior = trace[1000:]['difference']\n",
    "\n",
    "# 3d plot\n",
    "vals=np.vstack([pA, pB]).T\n",
    "limit=0.8\n",
    "df=pd.DataFrame(vals, columns=['A', 'B'])\n",
    "df=df[df['A']<limit]\n",
    "df=df[df['B']<limit]\n",
    "g=sns.jointplot(x=df.A, y=df.B, kind='kde', n_levels=15)\n",
    "g.ax_joint.plot([0.0, limit], [0.0, limit])"
   ]
  }
 ],
 "metadata": {
  "kernelspec": {
   "display_name": "Python 3",
   "language": "python",
   "name": "python3"
  },
  "language_info": {
   "codemirror_mode": {
    "name": "ipython",
    "version": 3
   },
   "file_extension": ".py",
   "mimetype": "text/x-python",
   "name": "python",
   "nbconvert_exporter": "python",
   "pygments_lexer": "ipython3",
   "version": "3.7.3"
  }
 },
 "nbformat": 4,
 "nbformat_minor": 2
}
